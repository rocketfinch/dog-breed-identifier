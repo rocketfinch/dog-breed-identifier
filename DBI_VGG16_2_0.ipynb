{
  "cells": [
    {
      "cell_type": "code",
      "execution_count": null,
      "metadata": {
        "id": "9qoQdJfjR6Al"
      },
      "outputs": [],
      "source": [
        "\n",
        "#Dog breed indentifier using CNN\n",
        "\n",
        "# Importing the libraries\n",
        "import numpy as np\n",
        "import matplotlib.pyplot as plt\n",
        "import math\n",
        "import pandas as pd\n",
        "import os\n",
        "import cv2\n",
        "import random\n",
        "import pickle\n",
        "from tqdm import tqdm\n",
        "from sklearn.model_selection import train_test_split\n",
        "from sklearn.metrics import confusion_matrix\n",
        "import itertools\n",
        "import tensorflow as tf\n",
        "# from tensorflow.keras.models import Sequential\n",
        "# from tensorflow.keras.layers import Dense, Dropout, Activation, Flatten, Conv2D, MaxPooling2D\n",
        "# from tensorflow.keras.callbacks import TensorBoard\n",
        "import time\n",
        "\n",
        "import seaborn as sns\n",
        "from tensorflow.keras.preprocessing.image import ImageDataGenerator\n",
        "from tensorflow.keras.preprocessing import image\n",
        "from tensorflow.keras.callbacks import ModelCheckpoint, EarlyStopping\n",
        "\n",
        "\n",
        "from tensorflow.keras.models import Model\n",
        "from tensorflow.keras.layers import Dense, GlobalAveragePooling2D\n",
        "# from tensorflow.keras import backend as K\n",
        "from tensorflow.keras.optimizers import SGD\n",
        "from tensorflow.keras.optimizers import Adam\n",
        "from tensorflow.keras.losses import categorical_crossentropy\n",
        "\n",
        "\n",
        "from tensorflow.keras.applications import vgg16\n",
        "from tensorflow.keras.applications.vgg16 import preprocess_input\n",
        "\n",
        "\n",
        "from tensorflow.keras.applications import vgg19\n",
        "from tensorflow.keras.applications.vgg19 import preprocess_input\n",
        "# from tensorflow.keras import backend as K\n",
        "\n"
      ]
    },
    {
      "cell_type": "code",
      "execution_count": null,
      "metadata": {
        "id": "3ty5FrqCSCt6"
      },
      "outputs": [],
      "source": [
        "\n",
        "RESULTS_DIR = '/content/drive/My Drive/results/'\n",
        "IMG_SIZE = 224\n",
        "\n",
        "BATCH_SIZE_PRE = 32\n",
        "BATCH_SIZE_FINE = 16\n",
        "EPOCHS_PRE = 5\n",
        "EPOCHS_FINE = 5\n",
        "MOMENTUM = 0.9"
      ]
    },
    {
      "cell_type": "code",
      "execution_count": null,
      "metadata": {
        "id": "Dpq5SywuSKBW"
      },
      "outputs": [],
      "source": [
        "\n",
        "def read_image4d_from_file(filename:str):\n",
        "    image = cv2.imread(filename, cv2.IMREAD_COLOR).astype('float32')\n",
        "    print(\"image type:\", type(image))\n",
        "    image_4d = np.expand_dims(image, axis=0)\n",
        "    print(\"image_4d:\", image_4d.shape)\n",
        "    return image_4d"
      ]
    },
    {
      "cell_type": "code",
      "execution_count": null,
      "metadata": {
        "colab": {
          "base_uri": "https://localhost:8080/"
        },
        "id": "8R7myCnMjJbV",
        "outputId": "ac592913-458d-4201-a1f5-6ea9b1bf5558"
      },
      "outputs": [
        {
          "name": "stdout",
          "output_type": "stream",
          "text": [
            "Mounted at /content/drive/\n"
          ]
        }
      ],
      "source": [
        "from google.colab import drive\n",
        "drive.mount('/content/drive/')"
      ]
    },
    {
      "cell_type": "code",
      "execution_count": null,
      "metadata": {
        "id": "OA0j9m1gSSG5"
      },
      "outputs": [],
      "source": [
        "\n",
        "def generator_from_filenames_and_labels(filenames, labels, batch_size, input_size=(299,299)):\n",
        "    num_files = len(filenames)\n",
        "    while 1:\n",
        "        permutation = np.random.permutation(num_files)\n",
        "        inputs_shuffled = filenames[permutation]\n",
        "        labels_shuffled = labels[permutation]\n",
        "        for i in range(0, numsamples, batch_size):\n",
        "            inputs = list(map(lambda x: image.load_img(x, target_size=input_size), filenames[i:i+batch_size]))\n",
        "            inputs = np.array(list(map(lambda x: image.img_to_array(x))))\n",
        "            inputs = pre_process_inputs(inputs)\n",
        "            yield (inputs, labels[i:i+batch_size])"
      ]
    },
    {
      "cell_type": "code",
      "execution_count": null,
      "metadata": {
        "colab": {
          "base_uri": "https://localhost:8080/"
        },
        "id": "-Hst1uk1SWKp",
        "outputId": "bbe736c2-89b2-482f-cc12-47ab18608131"
      },
      "outputs": [
        {
          "name": "stdout",
          "output_type": "stream",
          "text": [
            "Found 723 images belonging to 5 classes.\n",
            "Found 723 images belonging to 5 classes.\n",
            "Found 480 images belonging to 5 classes.\n"
          ]
        }
      ],
      "source": [
        "\n",
        "train_datagen = ImageDataGenerator(\n",
        "#     featurewise_center=True,\n",
        "#     featurewise_std_normalization=True,\n",
        "    rotation_range = 10,\n",
        "    horizontal_flip = True,\n",
        "    validation_split = 0.2)\n",
        "\n",
        "train_pre_generator = train_datagen.flow_from_directory(\n",
        "    directory = \"/content/drive/My Drive/train_sub/\",\n",
        "    target_size = (IMG_SIZE, IMG_SIZE),\n",
        "    color_mode = \"rgb\",\n",
        "    batch_size = BATCH_SIZE_PRE,\n",
        "    class_mode = \"categorical\")\n",
        "\n",
        "train_fine_generator = train_datagen.flow_from_directory(\n",
        "    directory = \"/content/drive/My Drive/train_sub/\",\n",
        "    target_size = (IMG_SIZE, IMG_SIZE),\n",
        "    color_mode = \"rgb\",\n",
        "    batch_size = BATCH_SIZE_FINE,\n",
        "    class_mode = \"categorical\")\n",
        "\n",
        "test_datagen = ImageDataGenerator()\n",
        "test_generator = test_datagen.flow_from_directory(\n",
        "    directory = \"/content/drive/My Drive/test_sub/\",\n",
        "    batch_size = BATCH_SIZE_FINE,\n",
        "    class_mode = \"categorical\"\n",
        ")"
      ]
    },
    {
      "cell_type": "code",
      "execution_count": null,
      "metadata": {
        "colab": {
          "base_uri": "https://localhost:8080/"
        },
        "id": "RO_a2L5YjZIt",
        "outputId": "10e5c99a-abb8-42f7-a7cc-81e950621542"
      },
      "outputs": [
        {
          "name": "stdout",
          "output_type": "stream",
          "text": [
            "num_breeds: 5\n"
          ]
        }
      ],
      "source": [
        "# dog_breed_dict = {}\n",
        "# for i, breed in enumerate(dog_breed_name['breed'].unique()):\n",
        "#     dog_breed_dict[breed] = i\n",
        "    \n",
        "# num_breeds = len(dog_breed_name['breed'].unique())\n",
        "# print(\"num_breeds:\", num_breeds)\n",
        "\n",
        "assert len(os.listdir('/content/drive/My Drive/train_sub/')) == len(os.listdir('/content/drive/My Drive/test_sub/'))\n",
        "num_breeds = len(os.listdir('/content/drive/My Drive/train_sub/'))\n",
        "print(\"num_breeds:\", num_breeds)"
      ]
    },
    {
      "cell_type": "code",
      "execution_count": null,
      "metadata": {
        "id": "6EJIarfgjtDY"
      },
      "outputs": [],
      "source": [
        "vgg_base_model = vgg16.VGG16(include_top=False,\n",
        "                                        weights='imagenet',\n",
        "                                        input_shape=(224,224,3))\n",
        "\n",
        "x_base_vgg = vgg_base_model.output\n",
        "x_avg_pooling_vgg = GlobalAveragePooling2D()(x_base_vgg)\n",
        "# x_first_fc_vgg = Dense(1024, activation='relu')(x_avg_pooling_vgg)\n",
        "x_last_fc_vgg = Dense(num_breeds, activation='softmax')(x_avg_pooling_vgg)\n",
        "\n",
        "vgg_custom_model = Model(inputs=vgg_base_model.inputs, outputs=x_last_fc_vgg)\n"
      ]
    },
    {
      "cell_type": "code",
      "execution_count": null,
      "metadata": {
        "colab": {
          "background_save": true,
          "base_uri": "https://localhost:8080/"
        },
        "id": "4fhZ0PtgkaDG",
        "outputId": "50091732-7344-453d-cd23-b50bd1cc8739"
      },
      "outputs": [
        {
          "name": "stderr",
          "output_type": "stream",
          "text": [
            "<ipython-input-14-dcb8c9d73cba>:7: UserWarning: `Model.fit_generator` is deprecated and will be removed in a future version. Please use `Model.fit`, which supports generators.\n",
            "  model_train_pre = vgg_custom_model.fit_generator(\n"
          ]
        },
        {
          "name": "stdout",
          "output_type": "stream",
          "text": [
            "Epoch 1/5\n",
            "22/22 [==============================] - 715s 33s/step - loss: 13.1361 - accuracy: 0.6686 - val_loss: 4.9507 - val_accuracy: 0.8604\n",
            "Epoch 2/5\n",
            "22/22 [==============================] - 707s 33s/step - loss: 3.6765 - accuracy: 0.9059 - val_loss: 2.6634 - val_accuracy: 0.9333\n",
            "Epoch 3/5\n",
            "22/22 [==============================] - 709s 33s/step - loss: 2.0649 - accuracy: 0.9291 - val_loss: 3.0765 - val_accuracy: 0.9083\n",
            "Epoch 4/5\n",
            "22/22 [==============================] - 706s 33s/step - loss: 0.7221 - accuracy: 0.9609 - val_loss: 3.5268 - val_accuracy: 0.9125\n",
            "Epoch 5/5\n",
            "22/22 [==============================] - 705s 33s/step - loss: 1.0029 - accuracy: 0.9595 - val_loss: 3.1786 - val_accuracy: 0.9187\n"
          ]
        }
      ],
      "source": [
        "#Train model - freeze body layers first\n",
        "for layer in vgg_base_model.layers:\n",
        "    layer.trainable = False\n",
        "\n",
        "vgg_custom_model.compile(optimizer=SGD(momentum=MOMENTUM), loss=categorical_crossentropy, metrics=['accuracy'])\n",
        "\n",
        "model_train_pre = vgg_custom_model.fit_generator(\n",
        "    generator = train_pre_generator,\n",
        "    steps_per_epoch = (train_pre_generator.n//train_pre_generator.batch_size),\n",
        "    epochs = EPOCHS_PRE,\n",
        "    validation_data = test_generator,\n",
        "    validation_steps = (test_generator.n//test_generator.batch_size),\n",
        "    verbose=1\n",
        ")\n",
        "\n"
      ]
    },
    {
      "cell_type": "code",
      "execution_count": 17,
      "metadata": {
        "id": "jYqaW0YheHkH"
      },
      "outputs": [],
      "source": [
        "# total_validate =480\n",
        "# batch_size = 1\n",
        "\n",
        "# loss, accuracy = vgg_custom_model.evaluate_generator(test_generator, total_validate//batch_size, workers=12)\n",
        "# print(\"Test: accuracy = %f  ;  loss = %f \" % (accuracy, loss))"
      ]
    },
    {
      "cell_type": "code",
      "execution_count": 18,
      "metadata": {
        "id": "-vSYUKghUoN_"
      },
      "outputs": [],
      "source": [
        "vgg_custom_model.save(os.path.join(RESULTS_DIR, 'model_pre_vgg1.h5'))"
      ]
    },
    {
      "cell_type": "code",
      "execution_count": null,
      "metadata": {
        "id": "bO-7S19ZeGX3"
      },
      "outputs": [],
      "source": []
    },
    {
      "cell_type": "code",
      "execution_count": null,
      "metadata": {
        "id": "uzl_vAfT3a28"
      },
      "outputs": [],
      "source": [
        "vgg_custom_model.save(os.path.join(RESULTS_DIR, 'model_pre_2vgg.h5'))\n"
      ]
    },
    {
      "cell_type": "code",
      "execution_count": null,
      "metadata": {
        "colab": {
          "base_uri": "https://localhost:8080/"
        },
        "id": "WlMehRZrOuNU",
        "outputId": "6ad58ed8-2b08-441e-c31e-0f090ef27721"
      },
      "outputs": [
        {
          "metadata": {
            "tags": null
          },
          "name": "stderr",
          "output_type": "stream",
          "text": [
            "<ipython-input-19-0821778bfc9f>:7: UserWarning: `Model.fit_generator` is deprecated and will be removed in a future version. Please use `Model.fit`, which supports generators.\n",
            "  model_train_fine = vgg_custom_model.fit_generator(\n"
          ]
        },
        {
          "metadata": {
            "tags": null
          },
          "name": "stdout",
          "output_type": "stream",
          "text": [
            "Epoch 1/5\n",
            "45/45 [==============================] - 1735s 39s/step - loss: nan - accuracy: 0.2390 - val_loss: nan - val_accuracy: 0.2146\n",
            "Epoch 2/5\n",
            "45/45 [==============================] - 1721s 38s/step - loss: nan - accuracy: 0.2207 - val_loss: nan - val_accuracy: 0.2146\n",
            "Epoch 3/5\n",
            "45/45 [==============================] - 1691s 38s/step - loss: nan - accuracy: 0.2221 - val_loss: nan - val_accuracy: 0.2146\n",
            "Epoch 4/5\n",
            "45/45 [==============================] - 1707s 38s/step - loss: nan - accuracy: 0.2221 - val_loss: nan - val_accuracy: 0.2146\n",
            "Epoch 5/5\n",
            "45/45 [==============================] - ETA: 0s - loss: nan - accuracy: 0.2178 "
          ]
        }
      ],
      "source": [
        "#Train model - train all layers\n",
        "for layer in vgg_base_model.layers:\n",
        "    layer.trainable = True\n",
        "    \n",
        "vgg_custom_model.compile(optimizer=SGD(momentum=0.9), loss=categorical_crossentropy, metrics=['accuracy'] )\n",
        "\n",
        "model_train_fine = vgg_custom_model.fit_generator(\n",
        "    generator = train_fine_generator,\n",
        "    steps_per_epoch = (train_fine_generator.n//train_fine_generator.batch_size),\n",
        "    epochs = 5,\n",
        "    validation_data = test_generator,\n",
        "    validation_steps = (test_generator.n//test_generator.batch_size),\n",
        "    verbose = 1\n",
        ")\n",
        "\n",
        "vgg_custom_model.save(os.path.join(RESULTS_DIR, 'model_fine.h5'))"
      ]
    },
    {
      "cell_type": "code",
      "source": [
        "total_validate =480\n",
        "batch_size = 1\n",
        "\n",
        "loss, accuracy = vgg_custom_model.evaluate_generator(test_generator, total_validate//batch_size, workers=12)\n",
        "print(\"Test: accuracy = %f  ;  loss = %f \" % (accuracy, loss))"
      ],
      "metadata": {
        "id": "1WFWKz1nr8qa",
        "outputId": "9177654f-0b25-45a1-d76f-44a640324701",
        "colab": {
          "base_uri": "https://localhost:8080/"
        }
      },
      "execution_count": null,
      "outputs": [
        {
          "metadata": {
            "tags": null
          },
          "name": "stderr",
          "output_type": "stream",
          "text": [
            "<ipython-input-21-0e73abc79267>:4: UserWarning: `Model.evaluate_generator` is deprecated and will be removed in a future version. Please use `Model.evaluate`, which supports generators.\n",
            "  loss, accuracy = vgg_custom_model.evaluate_generator(test_generator, total_validate//batch_size, workers=12)\n"
          ]
        }
      ]
    },
    {
      "cell_type": "code",
      "execution_count": 20,
      "metadata": {
        "id": "GfA7KgD33XEF"
      },
      "outputs": [],
      "source": [
        "vgg_custom_model.save(os.path.join(RESULTS_DIR, 'model_vggfine.h5'))"
      ]
    },
    {
      "cell_type": "code",
      "execution_count": null,
      "metadata": {
        "id": "gYWkgFoFQKpQ"
      },
      "outputs": [],
      "source": [
        "import sklearn.metrics\n",
        "def f1_score(y_true, y_pred, average='macro'):\n",
        "    \"\"\"Calculate the F1 score for the given predictions and labels.\n",
        "    Args:\n",
        "        y_true (np.ndarray): Array of true labels.\n",
        "        y_pred (np.ndarray): Array of predicted labels.\n",
        "        average (str): Type of averaging to use. Options are 'micro', 'macro', and 'weighted'.\n",
        "    Returns:\n",
        "        float: The F1 score.\n",
        "    \"\"\"\n",
        "    return sklearn.metrics.f1_score(y_true, y_pred, average=average)"
      ]
    },
    {
      "cell_type": "code",
      "execution_count": null,
      "metadata": {
        "id": "1hUG3W9e3xAF"
      },
      "outputs": [],
      "source": [
        "# from keras.models import load_model\n",
        "# model = load_model('myModel.h5')"
      ]
    },
    {
      "cell_type": "code",
      "execution_count": null,
      "metadata": {
        "id": "xbUETmmm0-lu"
      },
      "outputs": [],
      "source": [
        "# LOAD MODEL\n",
        "\n",
        "from keras.models import load_model\n",
        "# model = load_model('myvgg16Model.h5')\n",
        "\n",
        "model = load_model(os.path.join(RESULTS_DIR, 'model_pre_2vgg.h5'), custom_objects={'f1_score': f1_score})\n"
      ]
    },
    {
      "cell_type": "code",
      "execution_count": null,
      "metadata": {
        "colab": {
          "base_uri": "https://localhost:8080/"
        },
        "id": "d_uuzgCk5H-a",
        "outputId": "eda95192-43b2-4c29-9778-6033a5a036e3"
      },
      "outputs": [
        {
          "name": "stderr",
          "output_type": "stream",
          "text": [
            "<ipython-input-64-1def4af94d4d>:3: UserWarning: `Model.predict_generator` is deprecated and will be removed in a future version. Please use `Model.predict`, which supports generators.\n",
            "  pred = model.predict_generator(test_generator, steps=(test_generator.n//test_generator.batch_size), verbose=1)\n"
          ]
        },
        {
          "name": "stdout",
          "output_type": "stream",
          "text": [
            " 7/30 [======>.......................] - ETA: 4:22"
          ]
        }
      ],
      "source": [
        "# EVALUATE ON TEST SET\n",
        "test_generator.reset()\n",
        "pred = model.predict_generator(test_generator, steps=(test_generator.n//test_generator.batch_size), verbose=1)\n",
        "# pred_bool = (pred > 0.5)\n",
        "test_labels = test_generator.classes\n",
        "test_labels = test_labels[:len(pred)]\n",
        "\n",
        "# print('Accuracy:', accuracy(test_labels, pred_bool))\n",
        "# print('Precision:', precision(test_labels, pred_bool))\n",
        "# print('Recall:', recall(test_labels, pred_bool))\n",
        "# print('AUC:', auc(test_labels, pred_bool))"
      ]
    },
    {
      "cell_type": "code",
      "execution_count": null,
      "metadata": {
        "colab": {
          "base_uri": "https://localhost:8080/"
        },
        "id": "DXy4wkThQOV7",
        "outputId": "ec05b44b-7569-46b8-8950-c5544636c8fc"
      },
      "outputs": [
        {
          "name": "stdout",
          "output_type": "stream",
          "text": [
            "[[nan nan nan nan nan]\n",
            " [nan nan nan nan nan]\n",
            " [nan nan nan nan nan]\n",
            " ...\n",
            " [nan nan nan nan nan]\n",
            " [nan nan nan nan nan]\n",
            " [nan nan nan nan nan]]\n"
          ]
        }
      ],
      "source": [
        "print(pred)"
      ]
    },
    {
      "cell_type": "code",
      "execution_count": null,
      "metadata": {
        "colab": {
          "base_uri": "https://localhost:8080/",
          "height": 336
        },
        "id": "gJCVLNLPB2uu",
        "outputId": "bd5a891e-3fc9-4910-a5d0-088efa526534"
      },
      "outputs": [
        {
          "ename": "ValueError",
          "evalue": "ignored",
          "output_type": "error",
          "traceback": [
            "\u001b[0;31m---------------------------------------------------------------------------\u001b[0m",
            "\u001b[0;31mValueError\u001b[0m                                Traceback (most recent call last)",
            "\u001b[0;32m<ipython-input-58-49d1892b6554>\u001b[0m in \u001b[0;36m<module>\u001b[0;34m\u001b[0m\n\u001b[1;32m      1\u001b[0m \u001b[0;31m# calculate f1 score for test labels and predictions\u001b[0m\u001b[0;34m\u001b[0m\u001b[0;34m\u001b[0m\u001b[0;34m\u001b[0m\u001b[0m\n\u001b[0;32m----> 2\u001b[0;31m \u001b[0mf1_score\u001b[0m\u001b[0;34m(\u001b[0m\u001b[0mtest_labels\u001b[0m\u001b[0;34m,\u001b[0m \u001b[0mpred_bool\u001b[0m\u001b[0;34m,\u001b[0m \u001b[0maverage\u001b[0m\u001b[0;34m=\u001b[0m\u001b[0;34m'macro'\u001b[0m\u001b[0;34m)\u001b[0m\u001b[0;34m\u001b[0m\u001b[0;34m\u001b[0m\u001b[0m\n\u001b[0m",
            "\u001b[0;32m<ipython-input-57-3a153d520365>\u001b[0m in \u001b[0;36mf1_score\u001b[0;34m(y_true, y_pred, average)\u001b[0m\n\u001b[1;32m      9\u001b[0m         \u001b[0mfloat\u001b[0m\u001b[0;34m:\u001b[0m \u001b[0mThe\u001b[0m \u001b[0mF1\u001b[0m \u001b[0mscore\u001b[0m\u001b[0;34m.\u001b[0m\u001b[0;34m\u001b[0m\u001b[0;34m\u001b[0m\u001b[0m\n\u001b[1;32m     10\u001b[0m     \"\"\"\n\u001b[0;32m---> 11\u001b[0;31m     \u001b[0;32mreturn\u001b[0m \u001b[0msklearn\u001b[0m\u001b[0;34m.\u001b[0m\u001b[0mmetrics\u001b[0m\u001b[0;34m.\u001b[0m\u001b[0mf1_score\u001b[0m\u001b[0;34m(\u001b[0m\u001b[0my_true\u001b[0m\u001b[0;34m,\u001b[0m \u001b[0my_pred\u001b[0m\u001b[0;34m,\u001b[0m \u001b[0maverage\u001b[0m\u001b[0;34m=\u001b[0m\u001b[0maverage\u001b[0m\u001b[0;34m)\u001b[0m\u001b[0;34m\u001b[0m\u001b[0;34m\u001b[0m\u001b[0m\n\u001b[0m",
            "\u001b[0;32m/usr/local/lib/python3.8/dist-packages/sklearn/metrics/_classification.py\u001b[0m in \u001b[0;36mf1_score\u001b[0;34m(y_true, y_pred, labels, pos_label, average, sample_weight, zero_division)\u001b[0m\n\u001b[1;32m   1121\u001b[0m     \u001b[0mmodified\u001b[0m \u001b[0;32mwith\u001b[0m\u001b[0;31m \u001b[0m\u001b[0;31m`\u001b[0m\u001b[0;31m`\u001b[0m\u001b[0mzero_division\u001b[0m\u001b[0;31m`\u001b[0m\u001b[0;31m`\u001b[0m\u001b[0;34m.\u001b[0m\u001b[0;34m\u001b[0m\u001b[0;34m\u001b[0m\u001b[0m\n\u001b[1;32m   1122\u001b[0m     \"\"\"\n\u001b[0;32m-> 1123\u001b[0;31m     return fbeta_score(\n\u001b[0m\u001b[1;32m   1124\u001b[0m         \u001b[0my_true\u001b[0m\u001b[0;34m,\u001b[0m\u001b[0;34m\u001b[0m\u001b[0;34m\u001b[0m\u001b[0m\n\u001b[1;32m   1125\u001b[0m         \u001b[0my_pred\u001b[0m\u001b[0;34m,\u001b[0m\u001b[0;34m\u001b[0m\u001b[0;34m\u001b[0m\u001b[0m\n",
            "\u001b[0;32m/usr/local/lib/python3.8/dist-packages/sklearn/metrics/_classification.py\u001b[0m in \u001b[0;36mfbeta_score\u001b[0;34m(y_true, y_pred, beta, labels, pos_label, average, sample_weight, zero_division)\u001b[0m\n\u001b[1;32m   1259\u001b[0m     \"\"\"\n\u001b[1;32m   1260\u001b[0m \u001b[0;34m\u001b[0m\u001b[0m\n\u001b[0;32m-> 1261\u001b[0;31m     _, _, f, _ = precision_recall_fscore_support(\n\u001b[0m\u001b[1;32m   1262\u001b[0m         \u001b[0my_true\u001b[0m\u001b[0;34m,\u001b[0m\u001b[0;34m\u001b[0m\u001b[0;34m\u001b[0m\u001b[0m\n\u001b[1;32m   1263\u001b[0m         \u001b[0my_pred\u001b[0m\u001b[0;34m,\u001b[0m\u001b[0;34m\u001b[0m\u001b[0;34m\u001b[0m\u001b[0m\n",
            "\u001b[0;32m/usr/local/lib/python3.8/dist-packages/sklearn/metrics/_classification.py\u001b[0m in \u001b[0;36mprecision_recall_fscore_support\u001b[0;34m(y_true, y_pred, beta, labels, pos_label, average, warn_for, sample_weight, zero_division)\u001b[0m\n\u001b[1;32m   1542\u001b[0m     \u001b[0;32mif\u001b[0m \u001b[0mbeta\u001b[0m \u001b[0;34m<\u001b[0m \u001b[0;36m0\u001b[0m\u001b[0;34m:\u001b[0m\u001b[0;34m\u001b[0m\u001b[0;34m\u001b[0m\u001b[0m\n\u001b[1;32m   1543\u001b[0m         \u001b[0;32mraise\u001b[0m \u001b[0mValueError\u001b[0m\u001b[0;34m(\u001b[0m\u001b[0;34m\"beta should be >=0 in the F-beta score\"\u001b[0m\u001b[0;34m)\u001b[0m\u001b[0;34m\u001b[0m\u001b[0;34m\u001b[0m\u001b[0m\n\u001b[0;32m-> 1544\u001b[0;31m     \u001b[0mlabels\u001b[0m \u001b[0;34m=\u001b[0m \u001b[0m_check_set_wise_labels\u001b[0m\u001b[0;34m(\u001b[0m\u001b[0my_true\u001b[0m\u001b[0;34m,\u001b[0m \u001b[0my_pred\u001b[0m\u001b[0;34m,\u001b[0m \u001b[0maverage\u001b[0m\u001b[0;34m,\u001b[0m \u001b[0mlabels\u001b[0m\u001b[0;34m,\u001b[0m \u001b[0mpos_label\u001b[0m\u001b[0;34m)\u001b[0m\u001b[0;34m\u001b[0m\u001b[0;34m\u001b[0m\u001b[0m\n\u001b[0m\u001b[1;32m   1545\u001b[0m \u001b[0;34m\u001b[0m\u001b[0m\n\u001b[1;32m   1546\u001b[0m     \u001b[0;31m# Calculate tp_sum, pred_sum, true_sum ###\u001b[0m\u001b[0;34m\u001b[0m\u001b[0;34m\u001b[0m\u001b[0;34m\u001b[0m\u001b[0m\n",
            "\u001b[0;32m/usr/local/lib/python3.8/dist-packages/sklearn/metrics/_classification.py\u001b[0m in \u001b[0;36m_check_set_wise_labels\u001b[0;34m(y_true, y_pred, average, labels, pos_label)\u001b[0m\n\u001b[1;32m   1346\u001b[0m         \u001b[0;32mraise\u001b[0m \u001b[0mValueError\u001b[0m\u001b[0;34m(\u001b[0m\u001b[0;34m\"average has to be one of \"\u001b[0m \u001b[0;34m+\u001b[0m \u001b[0mstr\u001b[0m\u001b[0;34m(\u001b[0m\u001b[0maverage_options\u001b[0m\u001b[0;34m)\u001b[0m\u001b[0;34m)\u001b[0m\u001b[0;34m\u001b[0m\u001b[0;34m\u001b[0m\u001b[0m\n\u001b[1;32m   1347\u001b[0m \u001b[0;34m\u001b[0m\u001b[0m\n\u001b[0;32m-> 1348\u001b[0;31m     \u001b[0my_type\u001b[0m\u001b[0;34m,\u001b[0m \u001b[0my_true\u001b[0m\u001b[0;34m,\u001b[0m \u001b[0my_pred\u001b[0m \u001b[0;34m=\u001b[0m \u001b[0m_check_targets\u001b[0m\u001b[0;34m(\u001b[0m\u001b[0my_true\u001b[0m\u001b[0;34m,\u001b[0m \u001b[0my_pred\u001b[0m\u001b[0;34m)\u001b[0m\u001b[0;34m\u001b[0m\u001b[0;34m\u001b[0m\u001b[0m\n\u001b[0m\u001b[1;32m   1349\u001b[0m     \u001b[0;31m# Convert to Python primitive type to avoid NumPy type / Python str\u001b[0m\u001b[0;34m\u001b[0m\u001b[0;34m\u001b[0m\u001b[0;34m\u001b[0m\u001b[0m\n\u001b[1;32m   1350\u001b[0m     \u001b[0;31m# comparison. See https://github.com/numpy/numpy/issues/6784\u001b[0m\u001b[0;34m\u001b[0m\u001b[0;34m\u001b[0m\u001b[0;34m\u001b[0m\u001b[0m\n",
            "\u001b[0;32m/usr/local/lib/python3.8/dist-packages/sklearn/metrics/_classification.py\u001b[0m in \u001b[0;36m_check_targets\u001b[0;34m(y_true, y_pred)\u001b[0m\n\u001b[1;32m     91\u001b[0m \u001b[0;34m\u001b[0m\u001b[0m\n\u001b[1;32m     92\u001b[0m     \u001b[0;32mif\u001b[0m \u001b[0mlen\u001b[0m\u001b[0;34m(\u001b[0m\u001b[0my_type\u001b[0m\u001b[0;34m)\u001b[0m \u001b[0;34m>\u001b[0m \u001b[0;36m1\u001b[0m\u001b[0;34m:\u001b[0m\u001b[0;34m\u001b[0m\u001b[0;34m\u001b[0m\u001b[0m\n\u001b[0;32m---> 93\u001b[0;31m         raise ValueError(\n\u001b[0m\u001b[1;32m     94\u001b[0m             \"Classification metrics can't handle a mix of {0} and {1} targets\".format(\n\u001b[1;32m     95\u001b[0m                 \u001b[0mtype_true\u001b[0m\u001b[0;34m,\u001b[0m \u001b[0mtype_pred\u001b[0m\u001b[0;34m\u001b[0m\u001b[0;34m\u001b[0m\u001b[0m\n",
            "\u001b[0;31mValueError\u001b[0m: Classification metrics can't handle a mix of multiclass and multilabel-indicator targets"
          ]
        }
      ],
      "source": [
        "# calculate f1 score for test labels and predictions\n",
        "f1_score(test_labels, pred_bool, average='macro')"
      ]
    },
    {
      "cell_type": "code",
      "execution_count": null,
      "metadata": {
        "colab": {
          "base_uri": "https://localhost:8080/",
          "height": 371
        },
        "id": "ID412q6q8cN9",
        "outputId": "e27c89f0-93ea-4eb9-bdc1-59cf846e3610"
      },
      "outputs": [
        {
          "ename": "InvalidArgumentError",
          "evalue": "ignored",
          "output_type": "error",
          "traceback": [
            "\u001b[0;31m---------------------------------------------------------------------------\u001b[0m",
            "\u001b[0;31mInvalidArgumentError\u001b[0m                      Traceback (most recent call last)",
            "\u001b[0;32m<ipython-input-54-4ad835992001>\u001b[0m in \u001b[0;36m<module>\u001b[0;34m\u001b[0m\n\u001b[0;32m----> 1\u001b[0;31m \u001b[0mprint\u001b[0m\u001b[0;34m(\u001b[0m\u001b[0;34m'Precision:'\u001b[0m\u001b[0;34m,\u001b[0m \u001b[0mprecision\u001b[0m\u001b[0;34m(\u001b[0m\u001b[0mtest_labels\u001b[0m\u001b[0;34m,\u001b[0m \u001b[0mpred_bool\u001b[0m\u001b[0;34m)\u001b[0m\u001b[0;34m)\u001b[0m\u001b[0;34m\u001b[0m\u001b[0;34m\u001b[0m\u001b[0m\n\u001b[0m",
            "\u001b[0;32m<ipython-input-52-8fe549986e32>\u001b[0m in \u001b[0;36mprecision\u001b[0;34m(y_true, y_pred)\u001b[0m\n\u001b[1;32m      1\u001b[0m \u001b[0;31m# CALCULATE PRECISION\u001b[0m\u001b[0;34m\u001b[0m\u001b[0;34m\u001b[0m\u001b[0;34m\u001b[0m\u001b[0m\n\u001b[1;32m      2\u001b[0m \u001b[0;32mdef\u001b[0m \u001b[0mprecision\u001b[0m\u001b[0;34m(\u001b[0m\u001b[0my_true\u001b[0m\u001b[0;34m,\u001b[0m \u001b[0my_pred\u001b[0m\u001b[0;34m)\u001b[0m\u001b[0;34m:\u001b[0m\u001b[0;34m\u001b[0m\u001b[0;34m\u001b[0m\u001b[0m\n\u001b[0;32m----> 3\u001b[0;31m     \u001b[0my_pred\u001b[0m \u001b[0;34m=\u001b[0m \u001b[0mK\u001b[0m\u001b[0;34m.\u001b[0m\u001b[0mround\u001b[0m\u001b[0;34m(\u001b[0m\u001b[0my_pred\u001b[0m\u001b[0;34m)\u001b[0m\u001b[0;34m\u001b[0m\u001b[0;34m\u001b[0m\u001b[0m\n\u001b[0m\u001b[1;32m      4\u001b[0m     \u001b[0mtp\u001b[0m \u001b[0;34m=\u001b[0m \u001b[0mK\u001b[0m\u001b[0;34m.\u001b[0m\u001b[0msum\u001b[0m\u001b[0;34m(\u001b[0m\u001b[0mK\u001b[0m\u001b[0;34m.\u001b[0m\u001b[0mcast\u001b[0m\u001b[0;34m(\u001b[0m\u001b[0my_true\u001b[0m\u001b[0;34m*\u001b[0m\u001b[0my_pred\u001b[0m\u001b[0;34m,\u001b[0m \u001b[0;34m'float'\u001b[0m\u001b[0;34m)\u001b[0m\u001b[0;34m,\u001b[0m \u001b[0maxis\u001b[0m\u001b[0;34m=\u001b[0m\u001b[0;36m0\u001b[0m\u001b[0;34m)\u001b[0m\u001b[0;34m\u001b[0m\u001b[0;34m\u001b[0m\u001b[0m\n\u001b[1;32m      5\u001b[0m     \u001b[0mfp\u001b[0m \u001b[0;34m=\u001b[0m \u001b[0mK\u001b[0m\u001b[0;34m.\u001b[0m\u001b[0msum\u001b[0m\u001b[0;34m(\u001b[0m\u001b[0mK\u001b[0m\u001b[0;34m.\u001b[0m\u001b[0mcast\u001b[0m\u001b[0;34m(\u001b[0m\u001b[0;34m(\u001b[0m\u001b[0;36m1\u001b[0m\u001b[0;34m-\u001b[0m\u001b[0my_true\u001b[0m\u001b[0;34m)\u001b[0m\u001b[0;34m*\u001b[0m\u001b[0my_pred\u001b[0m\u001b[0;34m,\u001b[0m \u001b[0;34m'float'\u001b[0m\u001b[0;34m)\u001b[0m\u001b[0;34m,\u001b[0m \u001b[0maxis\u001b[0m\u001b[0;34m=\u001b[0m\u001b[0;36m0\u001b[0m\u001b[0;34m)\u001b[0m\u001b[0;34m\u001b[0m\u001b[0;34m\u001b[0m\u001b[0m\n",
            "\u001b[0;32m/usr/local/lib/python3.8/dist-packages/tensorflow/python/util/traceback_utils.py\u001b[0m in \u001b[0;36merror_handler\u001b[0;34m(*args, **kwargs)\u001b[0m\n\u001b[1;32m    151\u001b[0m     \u001b[0;32mexcept\u001b[0m \u001b[0mException\u001b[0m \u001b[0;32mas\u001b[0m \u001b[0me\u001b[0m\u001b[0;34m:\u001b[0m\u001b[0;34m\u001b[0m\u001b[0;34m\u001b[0m\u001b[0m\n\u001b[1;32m    152\u001b[0m       \u001b[0mfiltered_tb\u001b[0m \u001b[0;34m=\u001b[0m \u001b[0m_process_traceback_frames\u001b[0m\u001b[0;34m(\u001b[0m\u001b[0me\u001b[0m\u001b[0;34m.\u001b[0m\u001b[0m__traceback__\u001b[0m\u001b[0;34m)\u001b[0m\u001b[0;34m\u001b[0m\u001b[0;34m\u001b[0m\u001b[0m\n\u001b[0;32m--> 153\u001b[0;31m       \u001b[0;32mraise\u001b[0m \u001b[0me\u001b[0m\u001b[0;34m.\u001b[0m\u001b[0mwith_traceback\u001b[0m\u001b[0;34m(\u001b[0m\u001b[0mfiltered_tb\u001b[0m\u001b[0;34m)\u001b[0m \u001b[0;32mfrom\u001b[0m \u001b[0;32mNone\u001b[0m\u001b[0;34m\u001b[0m\u001b[0;34m\u001b[0m\u001b[0m\n\u001b[0m\u001b[1;32m    154\u001b[0m     \u001b[0;32mfinally\u001b[0m\u001b[0;34m:\u001b[0m\u001b[0;34m\u001b[0m\u001b[0;34m\u001b[0m\u001b[0m\n\u001b[1;32m    155\u001b[0m       \u001b[0;32mdel\u001b[0m \u001b[0mfiltered_tb\u001b[0m\u001b[0;34m\u001b[0m\u001b[0;34m\u001b[0m\u001b[0m\n",
            "\u001b[0;32m/usr/local/lib/python3.8/dist-packages/keras/backend.py\u001b[0m in \u001b[0;36mround\u001b[0;34m(x)\u001b[0m\n\u001b[1;32m   2851\u001b[0m       \u001b[0mA\u001b[0m \u001b[0mtensor\u001b[0m\u001b[0;34m.\u001b[0m\u001b[0;34m\u001b[0m\u001b[0;34m\u001b[0m\u001b[0m\n\u001b[1;32m   2852\u001b[0m   \"\"\"\n\u001b[0;32m-> 2853\u001b[0;31m   \u001b[0;32mreturn\u001b[0m \u001b[0mtf\u001b[0m\u001b[0;34m.\u001b[0m\u001b[0mround\u001b[0m\u001b[0;34m(\u001b[0m\u001b[0mx\u001b[0m\u001b[0;34m)\u001b[0m\u001b[0;34m\u001b[0m\u001b[0;34m\u001b[0m\u001b[0m\n\u001b[0m\u001b[1;32m   2854\u001b[0m \u001b[0;34m\u001b[0m\u001b[0m\n\u001b[1;32m   2855\u001b[0m \u001b[0;34m\u001b[0m\u001b[0m\n",
            "\u001b[0;31mInvalidArgumentError\u001b[0m: Value for attr 'T' of bool is not in the list of allowed values: bfloat16, half, float, double, int8, int16, int32, int64, complex64, complex128\n\t; NodeDef: {{node Round}}; Op<name=Round; signature=x:T -> y:T; attr=T:type,allowed=[DT_BFLOAT16, DT_HALF, DT_FLOAT, DT_DOUBLE, DT_INT8, DT_INT16, DT_INT32, DT_INT64, DT_COMPLEX64, DT_COMPLEX128]> [Op:Round]"
          ]
        }
      ],
      "source": [
        "# calculate f1 score for test labels and predictions\n",
        "f1_score(test_labels, predictions, average='macro')\n",
        "\n",
        "def f1_score(y_true, y_pred, average='macro'):\n",
        "    \"\"\"Calculate the F1 score for the given predictions and labels.\n",
        "    Args:\n",
        "        y_true (np.ndarray): Array of true labels.\n",
        "        y_pred (np.ndarray): Array of predicted labels.\n",
        "        average (str): Type of averaging to use. Options are 'micro', 'macro', and 'weighted'.\n",
        "    Returns:\n",
        "        float: The F1 score.\n",
        "    \"\"\"\n",
        "    return sklearn.metrics.f1_score(y_true, y_pred, average=average)"
      ]
    },
    {
      "cell_type": "code",
      "execution_count": null,
      "metadata": {
        "colab": {
          "base_uri": "https://localhost:8080/"
        },
        "id": "bSOg4E-H4wWd",
        "outputId": "3e5bab60-6e46-463a-f7b9-8abf83a4bf44"
      },
      "outputs": [
        {
          "name": "stdout",
          "output_type": "stream",
          "text": [
            "<function f1_score at 0x7f0bf34cb430>\n"
          ]
        }
      ],
      "source": [
        "\n",
        "\n",
        "\n",
        "# EVALUATE ON TRAIN SET\n",
        "train_generator.reset()\n",
        "pred = model.predict_generator(train_generator, steps=(train_generator.n//train_generator.batch_size), verbose=1)\n",
        "pred_bool = (pred > 0.5)\n",
        "train_labels = train_generator.classes\n",
        "train_labels = train_labels[:len(pred_bool)]\n",
        "print('F1 score:', f1_score(train_labels, pred_bool))\n",
        "print('Accuracy:', accuracy(train_labels, pred_bool))\n",
        "print('Precision:', precision(train_labels, pred_bool))\n",
        "print('Recall:', recall(train_labels, pred_bool))\n",
        "print('AUC:', auc(train_labels, pred_bool))\n"
      ]
    }
  ],
  "metadata": {
    "colab": {
      "provenance": []
    },
    "kernelspec": {
      "display_name": "Python 3",
      "name": "python3"
    },
    "language_info": {
      "name": "python"
    }
  },
  "nbformat": 4,
  "nbformat_minor": 0
}